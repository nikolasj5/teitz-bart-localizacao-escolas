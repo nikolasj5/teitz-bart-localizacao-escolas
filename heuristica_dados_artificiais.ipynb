{
  "nbformat": 4,
  "nbformat_minor": 0,
  "metadata": {
    "colab": {
      "provenance": [],
      "collapsed_sections": [
        "wHB9YMiz_Ws5"
      ]
    },
    "kernelspec": {
      "name": "python3",
      "display_name": "Python 3"
    },
    "language_info": {
      "name": "python"
    }
  },
  "cells": [
    {
      "cell_type": "markdown",
      "source": [
        "# Pré-processamento dos dados"
      ],
      "metadata": {
        "id": "qz7SroES_iiA"
      }
    },
    {
      "cell_type": "code",
      "source": [
        "class MyObject:\n",
        "    def __init__(self, dataframe):\n",
        "        self.dataframe = dataframe\n",
        "\n",
        "    def __getitem__(self, i):\n",
        "        row = self.dataframe.iloc[i]\n",
        "        return row['Value']\n",
        "\n",
        "    def soma(self, i, value):\n",
        "        self.dataframe.iloc[i]['Value'] = float(self.dataframe.iloc[i]['Value']+value)"
      ],
      "metadata": {
        "id": "oYLjAjojYM0H"
      },
      "execution_count": null,
      "outputs": []
    },
    {
      "cell_type": "code",
      "source": [
        "import pandas as pd"
      ],
      "metadata": {
        "id": "CptxZi4WksZ5"
      },
      "execution_count": null,
      "outputs": []
    },
    {
      "cell_type": "code",
      "source": [
        "distancias_centroides = pd.read_csv(\"matriz_dist_centroide_escola_ARTIFICIAL.csv\", decimal=\",\", index_col='ID')"
      ],
      "metadata": {
        "id": "UJu1Mk276Z02"
      },
      "execution_count": null,
      "outputs": []
    },
    {
      "cell_type": "code",
      "source": [
        "distancias_centroides"
      ],
      "metadata": {
        "id": "wmbAIezd6adI"
      },
      "execution_count": null,
      "outputs": []
    },
    {
      "cell_type": "code",
      "source": [
        "distancias_centroides = distancias_centroides.unstack().sort_index().unstack(level=0)\n",
        "distancias_centroides = distancias_centroides.sort_index()"
      ],
      "metadata": {
        "id": "H7cu3cJuk1jX"
      },
      "execution_count": null,
      "outputs": []
    },
    {
      "cell_type": "code",
      "source": [
        "distancias_centroides"
      ],
      "metadata": {
        "id": "sCEauFA2vDxK"
      },
      "execution_count": null,
      "outputs": []
    },
    {
      "cell_type": "code",
      "source": [
        "#distancias_centroides = distancias_centroides.melt(id_vars=['ID'], value_vars=distancias_centroides.columns[1:])\n",
        "#distancias_centroides.rename(columns={'variable':'escola', 'value':'dist'}, inplace=True)"
      ],
      "metadata": {
        "id": "ptvhHuy386xs"
      },
      "execution_count": null,
      "outputs": []
    },
    {
      "cell_type": "code",
      "source": [
        "#id_map = distancias_centroides['ID']\n",
        "#escola_map = distancias_centroides['escola']"
      ],
      "metadata": {
        "id": "eVBM3ZEJre3K"
      },
      "execution_count": null,
      "outputs": []
    },
    {
      "cell_type": "code",
      "source": [
        "id_map = distancias_centroides.index\n",
        "distancias_centroides = distancias_centroides.reset_index(drop=True)\n",
        "distancias_centroides"
      ],
      "metadata": {
        "id": "-n35aM7B50j3"
      },
      "execution_count": null,
      "outputs": []
    },
    {
      "cell_type": "code",
      "source": [
        "#distancias_centroides['ID'] = distancias_centroides.index\n",
        "#distancias_centroides['escola'] = distancias_centroides.index"
      ],
      "metadata": {
        "id": "KpM4LOx-nyl5"
      },
      "execution_count": null,
      "outputs": []
    },
    {
      "cell_type": "code",
      "source": [
        "dicionario = {}\n",
        "i = 0\n",
        "for col in distancias_centroides.columns[:]:\n",
        "  dicionario[col] = i\n",
        "  i = i+1"
      ],
      "metadata": {
        "id": "tSS9b2_ouCLN"
      },
      "execution_count": null,
      "outputs": []
    },
    {
      "cell_type": "code",
      "source": [
        "distancias_centroides.rename(columns=dicionario,inplace=True)"
      ],
      "metadata": {
        "id": "1Uv0Tq8_uYUv"
      },
      "execution_count": null,
      "outputs": []
    },
    {
      "cell_type": "code",
      "source": [
        "matriz_distancias = {}\n",
        "for col in distancias_centroides.columns:\n",
        "    matriz_distancias[col] = dict(zip(distancias_centroides.index, distancias_centroides[col]))"
      ],
      "metadata": {
        "id": "7b_I3-y0m83O"
      },
      "execution_count": null,
      "outputs": []
    },
    {
      "cell_type": "code",
      "source": [
        "id_map"
      ],
      "metadata": {
        "id": "Uwz6QxBa6N02"
      },
      "execution_count": null,
      "outputs": []
    },
    {
      "cell_type": "code",
      "source": [
        "matriz_distancias[0][0]"
      ],
      "metadata": {
        "id": "jp0Ep9VJm7sN"
      },
      "execution_count": null,
      "outputs": []
    },
    {
      "cell_type": "code",
      "source": [
        "capacidade_atual = pd.read_csv(\"capacidade-atual-escolas-ARTIFICIAL.csv\")"
      ],
      "metadata": {
        "id": "DafjPERGtlEI"
      },
      "execution_count": null,
      "outputs": []
    },
    {
      "cell_type": "code",
      "source": [
        "capacidade_atual"
      ],
      "metadata": {
        "id": "6Wa_1fQP8NCN"
      },
      "execution_count": null,
      "outputs": []
    },
    {
      "cell_type": "code",
      "source": [
        "capacidade_atual = capacidade_atual.sort_values('id')\n",
        "capacidade_atual = capacidade_atual.reset_index(drop=True)"
      ],
      "metadata": {
        "id": "o_AWXqEiMptj"
      },
      "execution_count": null,
      "outputs": []
    },
    {
      "cell_type": "code",
      "source": [
        "id_capacidades = capacidade_atual['id']"
      ],
      "metadata": {
        "id": "bl6qV77e7-tc"
      },
      "execution_count": null,
      "outputs": []
    },
    {
      "cell_type": "code",
      "source": [
        "matriz_capacidades = MyObject(capacidade_atual.rename(columns={'Matrículas fictícias':'Value'}))"
      ],
      "metadata": {
        "id": "6Q3X3wlrWk7L"
      },
      "execution_count": null,
      "outputs": []
    },
    {
      "cell_type": "code",
      "source": [
        "demanda = pd.read_csv(\"populacao_setores_sjc_demanda.csv\")"
      ],
      "metadata": {
        "id": "Xx4LTWFPv0WP"
      },
      "execution_count": null,
      "outputs": []
    },
    {
      "cell_type": "code",
      "source": [
        "demanda = demanda.sort_values('CD_GEOCODI')\n",
        "demanda = demanda.reset_index(drop=True)"
      ],
      "metadata": {
        "id": "_-PgtBVs8fd4"
      },
      "execution_count": null,
      "outputs": []
    },
    {
      "cell_type": "code",
      "source": [
        "id_demanda = demanda['CD_GEOCODI']"
      ],
      "metadata": {
        "id": "uD1Mm6dBZhHB"
      },
      "execution_count": null,
      "outputs": []
    },
    {
      "cell_type": "code",
      "source": [
        "matriz_demanda = MyObject(demanda.rename(columns={'POPULACAO':'Value'}))"
      ],
      "metadata": {
        "id": "ysS8bpXLY2FV"
      },
      "execution_count": null,
      "outputs": []
    },
    {
      "cell_type": "code",
      "source": [
        "escolas_regiao = pd.read_csv(\"escolas-regiao-ARTIFICIAL.csv\", index_col='id')\n",
        "escolas_regiao = escolas_regiao.fillna(0)"
      ],
      "metadata": {
        "id": "FaZiLSO8w1yf"
      },
      "execution_count": null,
      "outputs": []
    },
    {
      "cell_type": "code",
      "source": [
        "escolas_regiao = escolas_regiao.sort_values('id')"
      ],
      "metadata": {
        "id": "5i4V_6Gf8njp"
      },
      "execution_count": null,
      "outputs": []
    },
    {
      "cell_type": "code",
      "source": [
        "id_escolas_regiao = escolas_regiao.index\n",
        "qtd_regioes = len(escolas_regiao.columns)"
      ],
      "metadata": {
        "id": "UgSo7QV4aSvr"
      },
      "execution_count": null,
      "outputs": []
    },
    {
      "cell_type": "code",
      "source": [
        "escolas_regiao = escolas_regiao.reset_index(drop=True)"
      ],
      "metadata": {
        "id": "Vz6ZFOju89sy"
      },
      "execution_count": null,
      "outputs": []
    },
    {
      "cell_type": "code",
      "source": [
        "dicionario_regioes = {}\n",
        "i = 0\n",
        "for col in escolas_regiao.columns[1:]:\n",
        "  dicionario_regioes[col] = i\n",
        "  i = i+1"
      ],
      "metadata": {
        "id": "5jidhaP3apDn"
      },
      "execution_count": null,
      "outputs": []
    },
    {
      "cell_type": "code",
      "source": [
        "escolas_regiao.rename(columns=dicionario_regioes,inplace=True)"
      ],
      "metadata": {
        "id": "zgSl13uQaysC"
      },
      "execution_count": null,
      "outputs": []
    },
    {
      "cell_type": "code",
      "source": [
        "matriz_regioes = {}\n",
        "for col in escolas_regiao.columns:\n",
        "    matriz_regioes[col] = dict(zip(escolas_regiao['id'], escolas_regiao[col]))"
      ],
      "metadata": {
        "id": "VOyAsICEZ43n"
      },
      "execution_count": null,
      "outputs": []
    },
    {
      "cell_type": "code",
      "source": [
        "# Extrai valores únicos para identificação\n",
        "id_escolas = capacidade_atual.index.values\n",
        "id_vertices = demanda.index.values"
      ],
      "metadata": {
        "id": "Jzs_hqfxyZzB"
      },
      "execution_count": null,
      "outputs": []
    },
    {
      "cell_type": "code",
      "source": [
        "#distancias_centroides_ampl = distancias_centroides.transpose().unstack()\n",
        "#idx = distancias_centroides_ampl.index\n",
        "#distancias_centroides_ampl.index = distancias_centroides_ampl.index.set_levels(idx.levels[1].astype(\"int64\"), level=1)"
      ],
      "metadata": {
        "id": "3M-5dPDoZEjE"
      },
      "execution_count": null,
      "outputs": []
    },
    {
      "cell_type": "code",
      "source": [
        "#print(teitz_bart(matriz_distancias, 55))"
      ],
      "metadata": {
        "id": "5Pp1ghBfYOqs"
      },
      "execution_count": null,
      "outputs": []
    },
    {
      "cell_type": "markdown",
      "source": [
        "# Teitz e Bart - método construtivo"
      ],
      "metadata": {
        "id": "N_-1OgAuib9y"
      }
    },
    {
      "cell_type": "code",
      "source": [
        "### PARÂMETROS ###\n",
        "p = 538"
      ],
      "metadata": {
        "id": "d-lsz3D2C2HM"
      },
      "execution_count": null,
      "outputs": []
    },
    {
      "cell_type": "code",
      "source": [
        "import random\n",
        "import numpy as np\n",
        "import copy\n",
        "from timeit import default_timer as timer\n",
        "\n",
        "INF = float('inf')"
      ],
      "metadata": {
        "id": "2TSmLPowjhvE"
      },
      "execution_count": null,
      "outputs": []
    },
    {
      "cell_type": "code",
      "source": [
        "# Testa restrição\n",
        "def verifica_restricoes(median_x, median_y):\n",
        "    # R1: sum{j in escolas} x[j] = num_medianas;\n",
        "    sum_escola = 0\n",
        "    for j in range(len(median_x)):\n",
        "      sum_escola += median_x[j]\n",
        "    if sum_escola != p:\n",
        "      print(\"ERRO NUM_MEDIANAS\")\n",
        "      return False\n",
        "\n",
        "    # R3 {i in vertices}: sum{j in escolas} y[i,j] = 1;\n",
        "    for i in range(len(id_vertices)):\n",
        "      sum_escola = 0\n",
        "      for j in range(len(median_x)):\n",
        "        sum_escola += median_y[j][i]\n",
        "      if (sum_escola != 1):\n",
        "        print(\"ERRO MAIS DE UMA ESCOLA PRO MESMO VÉRTICE\")\n",
        "        return False\n",
        "\n",
        "    # R4 {j in escolas}: capacidade[j]*x[j] - 0.25*sum{i in vertices}demanda[i]*y[i,j] >= 0;\n",
        "    for j in range(len(median_x)):\n",
        "      sum_vertice = 0\n",
        "      for i in range(len(id_vertices)):\n",
        "        sum_vertice += matriz_demanda[i]*median_y[j][i]\n",
        "      restricao_1 = matriz_capacidades[j]*median_x[j] - 0.25*sum_vertice\n",
        "      if (restricao_1 < 0):\n",
        "        print(\"ERRO NA SOMA DAS CAPACIDADES\")\n",
        "        return False\n",
        "\n",
        "    # R6 {k in regioes_sjc}: sum{j in escolas}x[j]*escola_regiao_sjc[j,k] >= 1;\n",
        "    for k in range(qtd_regioes):\n",
        "      sum_vertice = 0\n",
        "      for j in range(len(id_escolas)):\n",
        "        sum_vertice += median_x[j]*matriz_regioes[k][j]\n",
        "      if (sum_vertice < 1):\n",
        "        print(\"ERRO FALTANDO ESCOLA EM UMA REGIÃO\")\n",
        "        return False\n",
        "\n",
        "    return True"
      ],
      "metadata": {
        "id": "reE_EiYOjYl2"
      },
      "execution_count": null,
      "outputs": []
    },
    {
      "cell_type": "code",
      "source": [
        "# Testa restrição\n",
        "def verifica_restricoes_intermediario(median_x):\n",
        "    # R6 {k in regioes_sjc}: sum{j in escolas}x[j]*escola_regiao_sjc[j,k] >= 1;\n",
        "    for k in range(qtd_regioes):\n",
        "      sum_vertice = 0\n",
        "      for j in range(len(id_escolas)):\n",
        "        sum_vertice += median_x[j]*matriz_regioes[k][j]\n",
        "      if (sum_vertice < 1):\n",
        "        #print(\"ERRO FALTANDO ESCOLA EM UMA REGIÃO\")\n",
        "        return False\n",
        "\n",
        "    return True"
      ],
      "metadata": {
        "id": "HBVy4KfBaYnP"
      },
      "execution_count": null,
      "outputs": []
    },
    {
      "cell_type": "code",
      "source": [
        "def funcao_objetivo_intermediaria(median_x):\n",
        "    sum_vertice = 0\n",
        "    for j in range(len(median_x)):\n",
        "      if (median_x[j] == 1):\n",
        "        for i in range(len(id_vertices)):\n",
        "          sum_vertice += matriz_distancias[j][i]\n",
        "    return sum_vertice"
      ],
      "metadata": {
        "id": "uMD8nTdi7kyl"
      },
      "execution_count": null,
      "outputs": []
    },
    {
      "cell_type": "code",
      "source": [
        "# minimize Z: sum{i in vertices, j in escolas} (distancias[i,j] * y[i,j]) + sum{j in escolas}custo_construir_sala*s[j];\n",
        "def funcao_objetivo(median_x, median_y):\n",
        "    sum_vertice = 0\n",
        "    for j in range(len(median_x)):\n",
        "      for i in range(len(id_vertices)):\n",
        "        sum_vertice += matriz_distancias[j][i]*median_y[j][i]\n",
        "    return sum_vertice"
      ],
      "metadata": {
        "id": "nt8KoQKkj65P"
      },
      "execution_count": null,
      "outputs": []
    },
    {
      "cell_type": "code",
      "source": [
        "# Melhorar: ao invés de fazer na ordem dos vértices, começar pelos mais próximos\n",
        "def encontra_melhor_y(median):\n",
        "    melhor_y = [[0 for i in range(len(id_vertices))] for j in range(len(id_escolas))]\n",
        "    capacidades_alocacao = [float(x) for i,x in enumerate(matriz_capacidades)]\n",
        "    for i in range(len(id_vertices)):\n",
        "      min_dist = INF\n",
        "      ind_dist = -1\n",
        "      for j in range(len(id_escolas)):\n",
        "        # Verifica se aquela escola é válida\n",
        "        if (median[j] == 1 and (capacidades_alocacao[j] - 0.25*matriz_demanda[i]> 0)):\n",
        "          # Verifica se aquela escolha melhora a distância\n",
        "          if (matriz_distancias[j][i] < min_dist):\n",
        "            min_dist = matriz_distancias[j][i]\n",
        "            ind_dist = j\n",
        "      if ind_dist == -1:\n",
        "        print(\"ERRO NA HORA DE ENCONTRAR MELHOR Y\")\n",
        "        return False\n",
        "      melhor_y[ind_dist][i] = 1\n",
        "      capacidades_alocacao[ind_dist] -= 0.25*matriz_demanda[i]\n",
        "    return melhor_y"
      ],
      "metadata": {
        "id": "rOYy12mSKv1v"
      },
      "execution_count": null,
      "outputs": []
    },
    {
      "cell_type": "code",
      "source": [
        "def generate_list_with_p_ones(length, p):\n",
        "    # Create a list with p ones and the remaining as zeros\n",
        "    ones = [1] * p\n",
        "    zeros = [0] * (length - p)\n",
        "    result = ones + zeros\n",
        "\n",
        "    # Shuffle the list to make it random\n",
        "    random.shuffle(result)\n",
        "\n",
        "    return result"
      ],
      "metadata": {
        "id": "pXS9NLMMVRyK"
      },
      "execution_count": null,
      "outputs": []
    },
    {
      "cell_type": "code",
      "source": [
        "# Solução inicial\n",
        "k = 0\n",
        "while k <= 1000:\n",
        "  solucao_x = generate_list_with_p_ones(len(id_escolas), p)\n",
        "  #solucao_y = encontra_melhor_y(solucao_x)\n",
        "  #teste_restricoes = verifica_restricoes(solucao_x, solucao_y)\n",
        "  teste_restricoes = verifica_restricoes_intermediario(solucao_x)\n",
        "  print(k, teste_restricoes)\n",
        "  if (teste_restricoes == False):\n",
        "    k += 1\n",
        "    continue\n",
        "  else:\n",
        "    break\n",
        "if (teste_restricoes == False):\n",
        "  print(\"---Erro: ultrapassou limite k sem encontrar solução---\")\n",
        "\n",
        "#funcao_objetivo_incumbente = funcao_objetivo(solucao_x, solucao_y)\n",
        "funcao_objetivo_incumbente = funcao_objetivo_intermediaria(solucao_x)"
      ],
      "metadata": {
        "id": "gBEHinitjUj-"
      },
      "execution_count": null,
      "outputs": []
    },
    {
      "cell_type": "code",
      "source": [
        "# Inicialização das variáveis\n",
        "candidatos = [1 if i==0 else 0 for i in solucao_x]"
      ],
      "metadata": {
        "id": "P3i9uuh2ig2X"
      },
      "execution_count": null,
      "outputs": []
    },
    {
      "cell_type": "code",
      "source": [
        "# ALGORITMO PRINCIPAL DE TROCAS\n",
        "while candidatos.count(1) > 0:\n",
        "  start = timer()\n",
        "  indice_candidato = candidatos.index(1)\n",
        "  candidatos[candidatos.index(1)] = 0\n",
        "  houve_substituicao = False\n",
        "  melhor_funcao_objetivo = funcao_objetivo_incumbente\n",
        "  for i in range(len(id_escolas)):\n",
        "    if (i != indice_candidato and solucao_x[i] == 1):\n",
        "      solucao_teste_x = copy.deepcopy(solucao_x)\n",
        "      solucao_teste_x[i] = 0\n",
        "      solucao_teste_x[indice_candidato] = 1\n",
        "      #solucao_teste_y = encontra_melhor_y(solucao_teste_x)\n",
        "      #funcao_objetivo_teste = funcao_objetivo(solucao_teste_x, solucao_teste_y)\n",
        "      funcao_objetivo_teste = funcao_objetivo_intermediaria(solucao_teste_x)\n",
        "      if (funcao_objetivo_teste < melhor_funcao_objetivo):\n",
        "        #solucao_teste_y = encontra_melhor_y(solucao_teste_x)\n",
        "        #teste_restricoes = verifica_restricoes(solucao_teste_x, solucao_teste_y)\n",
        "        teste_restricoes = verifica_restricoes_intermediario(solucao_teste_x)\n",
        "        if (teste_restricoes == True):\n",
        "          melhor_funcao_objetivo = funcao_objetivo_teste\n",
        "          solucao_substituicao_x = copy.deepcopy(solucao_teste_x)\n",
        "          #solucao_substituicao_y = copy.deepcopy(solucao_teste_y)\n",
        "          houve_substituicao = True\n",
        "    else:\n",
        "      continue\n",
        "  print(indice_candidato, houve_substituicao, melhor_funcao_objetivo, timer()-start)\n",
        "  if (houve_substituicao):\n",
        "    funcao_objetivo_incumbente = melhor_funcao_objetivo\n",
        "    solucao_x = copy.deepcopy(solucao_substituicao_x)\n",
        "    #solucao_y = copy.deepcopy(solucao_substituicao_y)"
      ],
      "metadata": {
        "id": "VWdfYfOq3kUr"
      },
      "execution_count": null,
      "outputs": []
    },
    {
      "cell_type": "code",
      "source": [
        "solucao_y = encontra_melhor_y(solucao_x)"
      ],
      "metadata": {
        "id": "YyT2raBbcpSB"
      },
      "execution_count": null,
      "outputs": []
    },
    {
      "cell_type": "code",
      "source": [
        "funcao_objetivo(solucao_x,solucao_y)"
      ],
      "metadata": {
        "id": "Js_kWVNucfBy"
      },
      "execution_count": null,
      "outputs": []
    },
    {
      "cell_type": "code",
      "source": [
        "for i in range(len(id_vertices)):\n",
        "  soma = 0\n",
        "  for j in range(len(id_escolas)):\n",
        "    soma += solucao_y[j][i]\n",
        "  if soma == 0: print(i, soma)"
      ],
      "metadata": {
        "id": "2YNxeokIcmw-"
      },
      "execution_count": null,
      "outputs": []
    },
    {
      "cell_type": "code",
      "source": [
        "funcao_objetivo(solucao_x, solucao_y)"
      ],
      "metadata": {
        "id": "PDQHrwPygTWJ"
      },
      "execution_count": null,
      "outputs": []
    },
    {
      "cell_type": "code",
      "source": [
        "solucao_escolas_vertices = pd.DataFrame.from_dict(solucao_y)"
      ],
      "metadata": {
        "id": "ZH2sjZnZ0YXV"
      },
      "execution_count": null,
      "outputs": []
    },
    {
      "cell_type": "code",
      "source": [
        "solucao_escolas_vertices"
      ],
      "metadata": {
        "id": "Fng8LRFU0hTI"
      },
      "execution_count": null,
      "outputs": []
    },
    {
      "cell_type": "code",
      "source": [
        "solucao_escolas_vertices.rename(columns=id_map, inplace=True)"
      ],
      "metadata": {
        "id": "6yReuyNM03dE"
      },
      "execution_count": null,
      "outputs": []
    },
    {
      "cell_type": "code",
      "source": [
        "solucao_escolas_vertices.index = [x for i,x in enumerate(dicionario)]"
      ],
      "metadata": {
        "id": "Ofn7Wmek1yRy"
      },
      "execution_count": null,
      "outputs": []
    },
    {
      "cell_type": "code",
      "source": [
        "solucao_escolas_vertices.to_csv(\"saida_escolas_vertices.csv\", index_label='ID', sep=\";\")"
      ],
      "metadata": {
        "id": "JtbV0QVC2SZV"
      },
      "execution_count": null,
      "outputs": []
    }
  ]
}