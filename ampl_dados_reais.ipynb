{
  "nbformat": 4,
  "nbformat_minor": 0,
  "metadata": {
    "colab": {
      "provenance": []
    },
    "kernelspec": {
      "name": "python3",
      "display_name": "Python 3"
    },
    "language_info": {
      "name": "python"
    }
  },
  "cells": [
    {
      "cell_type": "code",
      "execution_count": null,
      "metadata": {
        "id": "3inwhibU6dkz"
      },
      "outputs": [],
      "source": [
        "# Install dependencies\n",
        "!pip install -q amplpy\n",
        "\n",
        "# Google Colab & Kaggle integration\n",
        "from amplpy import AMPL, tools\n",
        "ampl = tools.ampl_notebook(\n",
        "    modules=[\"gurobi\", \"cplex\", \"highs\"], # modules to install\n",
        "    g=globals()) # instantiate AMPL object and register magics\n",
        "\n",
        "ampl.option[\"solver\"] = \"cplex\""
      ]
    },
    {
      "cell_type": "code",
      "source": [
        "%%writefile modelo.mod\n",
        "set escolas;\n",
        "set vertices;\n",
        "set regioes_sjc;\n",
        "\n",
        "# Dados extraídos\n",
        "param distancias{vertices, escolas};\n",
        "param capacidade{escolas};\n",
        "param demanda{vertices};\n",
        "param escola_regiao_sjc{escolas, regioes_sjc};\n",
        "\n",
        "# Parâmetros da instância\n",
        "param custo_construir_sala;\n",
        "#param num_medianas;\n",
        "param num_escolas_candidatas;\n",
        "param M;\n",
        "param num_medianas;\n",
        "\n",
        "# Testar se o p funciona assim\n",
        "#var num_medianas >= 0;\n",
        "\n",
        "# Variáveis de decisão\n",
        "var x{escolas} binary;\n",
        "var y{vertices,escolas} binary;\n",
        "var s{escolas} integer >= 0;\n",
        "\n",
        "#Função-objetivo\n",
        "minimize Z: sum{i in vertices, j in escolas} (distancias[i,j] * y[i,j]) + sum{j in escolas}custo_construir_sala*s[j];\n",
        "\n",
        "# Restrições\n",
        "s.t. R1: sum{j in escolas} x[j] = num_medianas;\n",
        "#s.t. R2: num_medianas >= 0.5*num_escolas_candidatas;\n",
        "s.t. R3 {i in vertices}: sum{j in escolas} y[i,j] = 1;\n",
        "s.t. R4 {j in escolas}: capacidade[j]*x[j] - 0.25*sum{i in vertices}demanda[i]*y[i,j] >= 0;\n",
        "s.t. R5 {j in escolas}: s[j] <= M*x[j];\n",
        "s.t. R6 {k in regioes_sjc}: sum{j in escolas}x[j]*escola_regiao_sjc[j,k] >= 1;"
      ],
      "metadata": {
        "id": "tYYqo7DyP09D"
      },
      "execution_count": null,
      "outputs": []
    },
    {
      "cell_type": "code",
      "source": [
        "import pandas as pd"
      ],
      "metadata": {
        "id": "CptxZi4WksZ5"
      },
      "execution_count": null,
      "outputs": []
    },
    {
      "cell_type": "code",
      "source": [
        "distancias_centroides = pd.read_csv(\"matriz_dist_centroide_escola.csv\", index_col=0)"
      ],
      "metadata": {
        "id": "H7cu3cJuk1jX"
      },
      "execution_count": null,
      "outputs": []
    },
    {
      "cell_type": "code",
      "source": [
        "capacidade_atual = pd.read_csv(\"capacidade-atual-escolas-REAL.csv\", index_col=0)"
      ],
      "metadata": {
        "id": "DafjPERGtlEI"
      },
      "execution_count": null,
      "outputs": []
    },
    {
      "cell_type": "code",
      "source": [
        "demanda = pd.read_csv(\"populacao_setores_sjc_demanda.csv\", index_col=0)\n",
        "demanda = demanda.sort_index()"
      ],
      "metadata": {
        "id": "Xx4LTWFPv0WP"
      },
      "execution_count": null,
      "outputs": []
    },
    {
      "cell_type": "code",
      "source": [
        "escolas_regiao = pd.read_csv(\"escolas-regiao-REAL.csv\", delimiter=\";\", index_col=0)\n",
        "escolas_regiao = escolas_regiao.fillna(0)"
      ],
      "metadata": {
        "id": "FaZiLSO8w1yf"
      },
      "execution_count": null,
      "outputs": []
    },
    {
      "cell_type": "code",
      "source": [
        "# Extrai valores únicos para identificação\n",
        "id_escolas = capacidade_atual.index.values\n",
        "id_vertices = demanda.index.values\n",
        "regioes_sjc = escolas_regiao.unstack().index.levels[0].values"
      ],
      "metadata": {
        "id": "Jzs_hqfxyZzB"
      },
      "execution_count": null,
      "outputs": []
    },
    {
      "cell_type": "code",
      "source": [
        "%%ampl_eval\n",
        "reset;\n",
        "model modelo.mod;"
      ],
      "metadata": {
        "id": "9klUhNRMEt7j"
      },
      "execution_count": null,
      "outputs": []
    },
    {
      "cell_type": "code",
      "source": [
        "ampl.set[\"escolas\"] = id_escolas\n",
        "ampl.set[\"vertices\"] = id_vertices\n",
        "ampl.set[\"regioes_sjc\"] = regioes_sjc"
      ],
      "metadata": {
        "id": "_TjvQmt_AJA5"
      },
      "execution_count": null,
      "outputs": []
    },
    {
      "cell_type": "code",
      "source": [
        "distancias_centroides_ampl = distancias_centroides.transpose().unstack()\n",
        "idx = distancias_centroides_ampl.index\n",
        "distancias_centroides_ampl.index = distancias_centroides_ampl.index.set_levels(idx.levels[1].astype(\"int64\"), level=1)\n",
        "ampl.param[\"distancias\"] = distancias_centroides_ampl"
      ],
      "metadata": {
        "id": "k0jR1T_2iyXV"
      },
      "execution_count": null,
      "outputs": []
    },
    {
      "cell_type": "code",
      "source": [
        "distancias_centroides_ampl[354990405000010][35037837]"
      ],
      "metadata": {
        "id": "ABGVt6HyHPSw"
      },
      "execution_count": null,
      "outputs": []
    },
    {
      "cell_type": "code",
      "source": [
        "%%ampl_eval\n",
        "display distancias[354990405000010,35037837];"
      ],
      "metadata": {
        "id": "lUKJ5K8uzfZ6"
      },
      "execution_count": null,
      "outputs": []
    },
    {
      "cell_type": "code",
      "source": [
        "teste_distancias = ampl.get_parameter(\"distancias\").getValues().toPandas()\n",
        "new_levels = [level.astype(int) for level in teste_distancias.index.levels]\n",
        "teste_distancias.index.set_levels(new_levels, inplace=True)\n",
        "teste_distancias = teste_distancias.unstack()\n",
        "teste_distancias.columns = teste_distancias.columns.get_level_values(1)"
      ],
      "metadata": {
        "id": "JKICNaqxRRhl"
      },
      "execution_count": null,
      "outputs": []
    },
    {
      "cell_type": "code",
      "source": [
        "teste_distancias[35001557][354990405000001]"
      ],
      "metadata": {
        "id": "h7dG074URgKA"
      },
      "execution_count": null,
      "outputs": []
    },
    {
      "cell_type": "code",
      "source": [
        "for i in id_vertices:\n",
        "  for j in id_escolas:\n",
        "    if (teste_distancias[j][i] != distancias_centroides_ampl[i][j]):\n",
        "      print(\"ERRO COM i=\",i,\" j=\",j)"
      ],
      "metadata": {
        "id": "5VmUTSt6S-nK"
      },
      "execution_count": null,
      "outputs": []
    },
    {
      "cell_type": "code",
      "source": [
        "ampl.param[\"capacidade\"] = capacidade_atual"
      ],
      "metadata": {
        "id": "wDPsVNWXkBxO"
      },
      "execution_count": null,
      "outputs": []
    },
    {
      "cell_type": "code",
      "source": [
        "ampl.param[\"demanda\"] = demanda"
      ],
      "metadata": {
        "id": "A-jScdBdkbO1"
      },
      "execution_count": null,
      "outputs": []
    },
    {
      "cell_type": "code",
      "source": [
        "%%ampl_eval\n",
        "display demanda[354990405000010];"
      ],
      "metadata": {
        "id": "7BRlbkc7fCyX"
      },
      "execution_count": null,
      "outputs": []
    },
    {
      "cell_type": "code",
      "source": [
        "ampl.param[\"escola_regiao_sjc\"] = escolas_regiao.transpose().unstack()"
      ],
      "metadata": {
        "id": "5jDC__93kjzd"
      },
      "execution_count": null,
      "outputs": []
    },
    {
      "cell_type": "code",
      "source": [
        "ampl.param[\"custo_construir_sala\"] = 10000\n",
        "ampl.param[\"num_medianas\"] = 55\n",
        "ampl.param[\"num_escolas_candidatas\"] = 109\n",
        "ampl.param[\"M\"] = 1000000"
      ],
      "metadata": {
        "id": "u6RALFD5nNjj"
      },
      "execution_count": null,
      "outputs": []
    },
    {
      "cell_type": "code",
      "source": [
        "%%ampl_eval\n",
        "solve;"
      ],
      "metadata": {
        "id": "nuB65rrqUg_T"
      },
      "execution_count": null,
      "outputs": []
    },
    {
      "cell_type": "code",
      "source": [
        "%%ampl_eval\n",
        "display x;"
      ],
      "metadata": {
        "id": "GYwfI_EcS_eF"
      },
      "execution_count": null,
      "outputs": []
    },
    {
      "cell_type": "code",
      "source": [
        "%%ampl_eval\n",
        "option display_width 790;"
      ],
      "metadata": {
        "id": "UkH3iOdpVUvs"
      },
      "execution_count": null,
      "outputs": []
    },
    {
      "cell_type": "code",
      "source": [
        "%%ampl_eval\n",
        "display y;"
      ],
      "metadata": {
        "id": "gLhrhDPOTAgZ"
      },
      "execution_count": null,
      "outputs": []
    },
    {
      "cell_type": "code",
      "source": [
        "%%ampl_eval\n",
        "display s;"
      ],
      "metadata": {
        "id": "Is5TXBkETBlV"
      },
      "execution_count": null,
      "outputs": []
    },
    {
      "cell_type": "code",
      "source": [
        "%%ampl_eval\n",
        "display num_medianas;"
      ],
      "metadata": {
        "id": "QL0LEWd9YVe_"
      },
      "execution_count": null,
      "outputs": []
    },
    {
      "cell_type": "code",
      "source": [
        "%%ampl_eval\n",
        "display _solve_time;"
      ],
      "metadata": {
        "id": "l77NtHOwKybP"
      },
      "execution_count": null,
      "outputs": []
    },
    {
      "cell_type": "code",
      "source": [
        "saida_ampl = ampl.get_variable(\"y\").getValues().toPandas()"
      ],
      "metadata": {
        "id": "yDhUFSd-4MDo"
      },
      "execution_count": null,
      "outputs": []
    },
    {
      "cell_type": "code",
      "source": [
        "new_levels = [level.astype(int) for level in saida_ampl.index.levels]\n",
        "saida_ampl.index.set_levels(new_levels, inplace=True)"
      ],
      "metadata": {
        "id": "wLrP3btr6Ig1"
      },
      "execution_count": null,
      "outputs": []
    },
    {
      "cell_type": "code",
      "source": [
        "saida_ampl = saida_ampl.unstack()\n",
        "saida_ampl"
      ],
      "metadata": {
        "id": "vlEUqRiP7ErF"
      },
      "execution_count": null,
      "outputs": []
    },
    {
      "cell_type": "code",
      "source": [
        "saida_ampl.columns = saida_ampl.columns.get_level_values(1)"
      ],
      "metadata": {
        "id": "sZHDvfn47vQy"
      },
      "execution_count": null,
      "outputs": []
    },
    {
      "cell_type": "code",
      "source": [
        "saida_ampl = saida_ampl.astype(int)"
      ],
      "metadata": {
        "id": "m3sVFYgM9bik"
      },
      "execution_count": null,
      "outputs": []
    },
    {
      "cell_type": "code",
      "source": [
        "saida_ampl"
      ],
      "metadata": {
        "id": "ddpr6MwFV8oE"
      },
      "execution_count": null,
      "outputs": []
    },
    {
      "cell_type": "code",
      "source": [
        "saida_ampl.to_csv(\"saida_ampl_real.csv\", index_label='ID', sep=\";\")"
      ],
      "metadata": {
        "id": "L5is-PV57VGA"
      },
      "execution_count": null,
      "outputs": []
    },
    {
      "cell_type": "code",
      "source": [
        "saida_x = ampl.get_variable(\"x\").getValues().toPandas()"
      ],
      "metadata": {
        "id": "k7oKc1UBDXYJ"
      },
      "execution_count": null,
      "outputs": []
    },
    {
      "cell_type": "code",
      "source": [
        "saida_x.to_csv(\"saida_x_ampl_real.csv\",index_label='ID', sep=\";\")"
      ],
      "metadata": {
        "id": "1KY6ZvM-EiaX"
      },
      "execution_count": null,
      "outputs": []
    }
  ]
}